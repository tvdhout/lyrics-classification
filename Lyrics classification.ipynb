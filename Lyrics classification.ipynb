{
 "cells": [
  {
   "cell_type": "code",
   "execution_count": null,
   "metadata": {},
   "outputs": [],
   "source": [
    "import numpy as np\n",
    "import pandas\n",
    "import time\n",
    "import random\n",
    "import gc\n",
    "import re\n",
    "import itertools\n",
    "import pickle\n",
    "from ipywidgets import IntProgress\n",
    "from IPython.display import display\n",
    "from collections import defaultdict \n",
    "from textdistance import Editex\n",
    "from nltk import word_tokenize, pos_tag, PorterStemmer\n",
    "from nltk.data import load\n",
    "from nltk.corpus import cmudict\n",
    "from sklearn.base import TransformerMixin\n",
    "from sklearn.preprocessing import FunctionTransformer\n",
    "from sklearn.pipeline import Pipeline, FeatureUnion, make_pipeline\n",
    "from sklearn.metrics import confusion_matrix\n",
    "from sklearn.feature_extraction.text import TfidfVectorizer\n",
    "from sklearn.feature_selection import SelectPercentile\n",
    "from sklearn.model_selection import train_test_split\n",
    "from sklearn.naive_bayes import MultinomialNB\n",
    "from sklearn.svm import SVC\n",
    "from sklearn.tree import DecisionTreeClassifier\n",
    "import matplotlib.pyplot as plt\n",
    "%matplotlib inline"
   ]
  },
  {
   "cell_type": "code",
   "execution_count": null,
   "metadata": {},
   "outputs": [],
   "source": [
    "with open('rhymes.p', 'rb') as f: #rhyme word dictionary tailored to data set, created beforehand\n",
    "    rhymes = pickle.load(f)"
   ]
  },
  {
   "cell_type": "markdown",
   "metadata": {},
   "source": [
    "## Pre-processing"
   ]
  },
  {
   "cell_type": "code",
   "execution_count": null,
   "metadata": {},
   "outputs": [],
   "source": [
    "df = pandas.read_csv('lyrics.csv', sep=',')"
   ]
  },
  {
   "cell_type": "code",
   "execution_count": null,
   "metadata": {},
   "outputs": [],
   "source": [
    "df = df.drop(['index', 'year', 'song', 'artist'], axis=1)\n",
    "\n",
    "df = df[df['genre'] != 'Not Available']\n",
    "df = df[df['genre'] != 'Other']\n",
    "#Too few samples:\n",
    "df = df[df['genre'] != 'Electronic']\n",
    "df = df[df['genre'] != 'Jazz']\n",
    "df = df[df['genre'] != 'Folk']\n",
    "\n",
    "#Too few samples / fit in another genre\n",
    "df.loc[df['genre']=='R&B', 'genre'] = 'Hip-Hop'\n",
    "df.loc[df['genre']=='Indie', 'genre'] = 'Rock'\n",
    "\n",
    "#drop empty lyrics / Nones and NaNs\n",
    "df = df[df.lyrics != '']\n",
    "df = df.dropna(how='any')\n",
    "\n",
    "#randomly drop a large portion of Rock lyrics because they are over-represented and will skew classification\n",
    "remove_n = len(df[df['genre'] == 'Rock'])-38000\n",
    "drop_indices = list(np.random.choice(df.index[df['genre']=='Rock'], remove_n, replace=False))\n",
    "df = df.drop(drop_indices)"
   ]
  },
  {
   "cell_type": "code",
   "execution_count": null,
   "metadata": {},
   "outputs": [],
   "source": [
    "#remove [Text] such as [Chorus] [Verse 1:] etc.\n",
    "df['lyrics'] = df['lyrics'].str.replace('\\[.*\\]', '', regex=True)\n",
    "df['lyrics'] = df['lyrics'].str.replace('[C|c][H|h][O|o][R|r][U|u][S|s]', '', regex=True)\n",
    "df['lyrics'] = df['lyrics'].str.replace('[V|v][E|e][R|r][S|s][E|e] *[0-9]*', '', regex=True)"
   ]
  },
  {
   "cell_type": "code",
   "execution_count": 5,
   "metadata": {},
   "outputs": [
    {
     "data": {
      "text/plain": [
       "144863"
      ]
     },
     "execution_count": 5,
     "metadata": {},
     "output_type": "execute_result"
    }
   ],
   "source": [
    "#total data set size\n",
    "len(df)"
   ]
  },
  {
   "cell_type": "code",
   "execution_count": 6,
   "metadata": {},
   "outputs": [
    {
     "data": {
      "text/plain": [
       "[40466, 28251, 38000, 23759, 14387]"
      ]
     },
     "execution_count": 6,
     "metadata": {},
     "output_type": "execute_result"
    }
   ],
   "source": [
    "#genre distribution\n",
    "[len(df[df.genre==l]) for l in df.genre.unique()]"
   ]
  },
  {
   "cell_type": "code",
   "execution_count": 246,
   "metadata": {},
   "outputs": [
    {
     "data": {
      "image/png": "[encoded data removed]",
      "text/plain": [
       "<Figure size 432x288 with 1 Axes>"
      ]
     },
     "metadata": {
      "needs_background": "light"
     },
     "output_type": "display_data"
    }
   ],
   "source": [
    "plt.bar(df.genre.unique(), [len(df[df.genre==l])/len(df) for l in df.genre.unique()])\n",
    "plt.xticks(rotation='vertical')\n",
    "plt.title(\"Genre distribution\")\n",
    "plt.ylabel(\"Percentage of total\");"
   ]
  },
  {
   "cell_type": "code",
   "execution_count": null,
   "metadata": {},
   "outputs": [],
   "source": [
    "change_labels = {'Pop':1,'Hip-Hop':2,'Rock':3,'Metal':4,'Country':5}\n",
    "df_x = np.array(df['lyrics'])\n",
    "df_y = np.array(df['genre'])\n",
    "df_y = np.array([change_labels[x] for x in df_y]) # numeric value for classification"
   ]
  },
  {
   "cell_type": "code",
   "execution_count": 245,
   "metadata": {},
   "outputs": [
    {
     "data": {
      "text/plain": [
       "0.2793397900084908"
      ]
     },
     "execution_count": 245,
     "metadata": {},
     "output_type": "execute_result"
    }
   ],
   "source": [
    "#majority classifier would obtain 27.9% accuracy\n",
    "print(len(df[df['genre']=='Pop'])/len(df))"
   ]
  },
  {
   "cell_type": "code",
   "execution_count": null,
   "metadata": {},
   "outputs": [],
   "source": [
    "#split data in train and test sets\n",
    "x_train, x_test, y_train, y_test = train_test_split(df_x, df_y, test_size=0.2, random_state=101)\n",
    "y_train = y_train.astype(int)\n",
    "y_test = y_test.astype(int)"
   ]
  },
  {
   "cell_type": "code",
   "execution_count": null,
   "metadata": {},
   "outputs": [],
   "source": [
    "#Following two cells create the dictionary of rhyme words for the collection, which is loaded as a pickle file in \n",
    "#subsequent runs\n",
    "\n",
    "'''\n",
    "from rhyme import getRhymes as rhyme #from https://github.com/qpwo/python-rhyme\n",
    "\n",
    "all_unique_words = set([])\n",
    "total = 0\n",
    "for i in range(len(df_x)):\n",
    "    doc = re.sub('[^\\w\\s]','',df_x[i].lower())\n",
    "    doc = re.sub('\\s+',' ',doc)\n",
    "    all_unique_words.update(doc.split())\n",
    "    total+=len(doc.split())\n",
    "''';"
   ]
  },
  {
   "cell_type": "code",
   "execution_count": null,
   "metadata": {},
   "outputs": [],
   "source": [
    "'''\n",
    "rhymes = {}\n",
    "all_unique_words = list(all_unique_words)\n",
    "start = time.time()\n",
    "for i in range(len(all_unique_words)):\n",
    "    rhymes[all_unique_words[i]] = rhyme(all_unique_words[i])\n",
    "    if i%int(len(all_unique_words)/20)==0:\n",
    "        print(int(i/len(all_unique_words)*100),\"%\", time.time()-start)\n",
    "\n",
    "with open('rhymes.p', 'wb') as f:\n",
    "    pickle.dump(rhymes, f)\n",
    "''';"
   ]
  },
  {
   "cell_type": "markdown",
   "metadata": {},
   "source": [
    "## Vectorizing & features"
   ]
  },
  {
   "cell_type": "code",
   "execution_count": null,
   "metadata": {},
   "outputs": [],
   "source": [
    "#Stemming the data (not used in final version)\n",
    "\n",
    "def stemData(data):\n",
    "    print(\"stemming\")\n",
    "    stemmer = PorterStemmer()\n",
    "    for i in range(len(data)):\n",
    "        data[i] = ' '.join([stemmer.stem(x) for x in word_tokenize(re.sub('[^\\w\\s]', '', data[i]))])\n",
    "        if(i%int(len(data)/10)==0):\n",
    "            print(i/float(len(data))*100, \"%\")\n",
    "    return data\n",
    "\n",
    "stemTransform = FunctionTransformer(stemData, validate=False)"
   ]
  },
  {
   "cell_type": "markdown",
   "metadata": {},
   "source": [
    "##### Rhyme features"
   ]
  },
  {
   "cell_type": "code",
   "execution_count": null,
   "metadata": {},
   "outputs": [],
   "source": [
    "def RhymeVectorizer(data):\n",
    "    print('Rhyme')\n",
    "    features = np.zeros((len(data),4), dtype=float)\n",
    "    \n",
    "    #progress bar\n",
    "    progress = IntProgress(min=0, max=len(data))\n",
    "    display(progress)\n",
    "    \n",
    "    for i in range(len(data)):\n",
    "        progress.value+=1\n",
    "        \n",
    "        #removes punctuation\n",
    "        doc = re.sub('[^\\w\\s]','',data[i].lower())\n",
    "        \n",
    "        #last word of each line\n",
    "        end_words = [re.sub('[\\W]','',line.split()[-1]).lower() if len(line.split())>0 else '' for line in \\\n",
    "                     doc.split('\\n')]\n",
    "        \n",
    "        #rhymes dictionary for this document to eliminate the need for many searches in all rhymes, just in case\n",
    "        doc_rhymes = dict([(x, rhymes[x]) if x in rhymes else (x,[]) for x in re.compile('[\\s]+').split(doc)])\n",
    "        \n",
    "        #end of line rhymes\n",
    "        for j in range(len(end_words)-1): \n",
    "            try:\n",
    "                features[i][0] += 1 if end_words[j+1] in doc_rhymes[end_words[j]] else 0 #AA\n",
    "            except: #key error on '', will only try this once\n",
    "                continue\n",
    "            try: \n",
    "                features[i][1] += 1 if end_words[j+2] in doc_rhymes[end_words[j]] else 0 #AxA\n",
    "            except: #last word index will be out of bounds (+2), skip these features\n",
    "                continue\n",
    "                \n",
    "        #within line rhyme\n",
    "        for line in doc.split('\\n'): \n",
    "            for j in range(len(line.split())): #word 1 rhymes with...?\n",
    "                for k in range(j, len(line.split())): #word 2\n",
    "                    features[i][2]+=1/len(line.split()) if line.split()[k] in doc_rhymes[line.split()[j]] else 0\n",
    "        \n",
    "        #normalize\n",
    "        for f in range(len(features[i])):\n",
    "            features[i][f]/=len(doc.split('\\n'))\n",
    "        \n",
    "    return features\n",
    "\n",
    "#Create transformer from function, used in the pipeline\n",
    "Rhymefeatures = FunctionTransformer(RhymeVectorizer, validate=False)"
   ]
  },
  {
   "cell_type": "markdown",
   "metadata": {},
   "source": [
    "##### Part of speech features"
   ]
  },
  {
   "cell_type": "code",
   "execution_count": null,
   "metadata": {},
   "outputs": [],
   "source": [
    "#unused feature extractor for POS tags\n",
    "\n",
    "'''\n",
    "def POSvectorizer1(data):\n",
    "    features = np.zeros((len(data),8), dtype=float)\n",
    "    print(\"POS\")\n",
    "    for i in range(len(data)):\n",
    "        data[i] = re.sub('[^\\w\\s]','',data[i].lower())\n",
    "        doc = [x for _,x in pos_tag(word_tokenize(data[i]))]        \n",
    "        N = len(data[i])\n",
    "        if(N>0):\n",
    "            features[i][0] = sum([doc.count(x) for x in 'NN NNP NNS NNPS'.split()])/N #nouns\n",
    "            features[i][1] = sum([doc.count(x) for x in 'VB VBD VBG VBN VBP VBZ'.split()])/N #verbs\n",
    "            features[i][2] = sum([doc.count(x) for x in 'PRP PRP$ WP WP$'.split()])/N #pronouns\n",
    "            features[i][3] = sum([doc.count(x) for x in 'IN'.split()])/N #prepositions\n",
    "            features[i][4] = sum([doc.count(x) for x in 'RB RBR RBS WRB'.split()])/N #adverbs\n",
    "            features[i][5] = doc.count('DT')/N #determiners\n",
    "            features[i][6] = doc.count('MD')/N #modals\n",
    "            features[i][7] = sum([doc.count(x) for x in 'JJ JJR JJS'.split()])/N #adjectives\n",
    "            \n",
    "        if(i%int(len(data)/10)==0):\n",
    "            print(int(i/float(len(data))*100), \"%\")\n",
    "    return features\n",
    "\n",
    "POSfeatures1 = FunctionTransformer(POSvectorizer1, validate=False)\n",
    "''';"
   ]
  },
  {
   "cell_type": "code",
   "execution_count": null,
   "metadata": {},
   "outputs": [],
   "source": [
    "#unused feature extractor for POS tags (groups variation of tags together)\n",
    "\n",
    "'''\n",
    "def POSvectorizer2(data):\n",
    "    print(\"POS\")\n",
    "    \n",
    "    progress = IntProgress(0,len(data))\n",
    "    display(progress)\n",
    "    \n",
    "    for i in range(len(data)):\n",
    "        progress.value+=1\n",
    "        data[i] = re.sub('[^\\w\\s]','',data[i].lower())\n",
    "        doc = ' '.join([x for _,x in pos_tag(word_tokenize(data[i]))])  \n",
    "        doc = re.sub('NN|NNP|NNS|NNPS','NOUN',doc)\n",
    "        doc = re.sub('VB|VBD|VBG|VBN|VBP|VBZ','VERB',doc)\n",
    "        doc = re.sub('PRP|PRP\\$|WP|WP\\$','PRONOUN',doc)\n",
    "        doc = re.sub('IN','PREP',doc)\n",
    "        doc = re.sub('RB|RBR|RBS|WRB','ADVERB',doc)\n",
    "        data[i] = re.sub('JJ|JJR|JJS','ADJECTIVE',doc)\n",
    "            \n",
    "    \n",
    "    return data\n",
    "\n",
    "getPOS = FunctionTransformer(POSvectorizer2, validate=False)\n",
    "''';"
   ]
  },
  {
   "cell_type": "code",
   "execution_count": null,
   "metadata": {},
   "outputs": [],
   "source": [
    "def POSvectorizer3(data):\n",
    "    '''\n",
    "    returns the POS tags for all the words in the lyrics\n",
    "    '''\n",
    "    print(\"POS\")\n",
    "    \n",
    "    progress = IntProgress(min=0 , max=len(data))\n",
    "    display(progress)\n",
    "    \n",
    "    for i in range(len(data)):\n",
    "        progress.value += 1\n",
    "        data[i] = data[i].lower()\n",
    "        data[i] = re.sub('[^\\w\\s]','',data[i])\n",
    "        data[i] = ' '.join([x for _,x in pos_tag(word_tokenize(data[i]))])  \n",
    "           \n",
    "    return data\n",
    "\n",
    "getPOS2 = FunctionTransformer(POSvectorizer3, validate=False)"
   ]
  },
  {
   "cell_type": "markdown",
   "metadata": {},
   "source": [
    "##### Text characteristics features"
   ]
  },
  {
   "cell_type": "code",
   "execution_count": null,
   "metadata": {},
   "outputs": [],
   "source": [
    "#number of syllables per word (words from nltk)\n",
    "prondict = cmudict.dict()\n",
    "\n",
    "def numsyllables(word): #inspiration: https://datawarrior.wordpress.com/2016/03/29/flesch-kincaid-readability-measure/\n",
    "    try:\n",
    "        return sum([1 if x[-1].isdigit() else 0 for x in prondict[word.lower()][0]])\n",
    "    except KeyError:\n",
    "        return 1"
   ]
  },
  {
   "cell_type": "code",
   "execution_count": null,
   "metadata": {},
   "outputs": [],
   "source": [
    "def StatsVectorizer(data):\n",
    "    print(\"Stats\")\n",
    "    features = np.zeros((len(data),14), dtype=float)\n",
    "    avg_nr_words = float(np.mean([len(text.split()) for text in data]))\n",
    "        \n",
    "    progress = IntProgress(min=0, max=len(data))\n",
    "    display(progress)\n",
    "    \n",
    "    for i in range(len(data)):\n",
    "        progress.value+=1\n",
    "        whitespace = re.compile('\\s')\n",
    "        nr_words = len(whitespace.split(data[i]))\n",
    "        if(nr_words<2):\n",
    "            continue\n",
    "        features[i][0] = data[i].count('.')/nr_words\n",
    "        features[i][1] = data[i].count('?')/nr_words\n",
    "        features[i][2] = data[i].count(',')/nr_words\n",
    "        features[i][3] = (data[i].count('\"')+data[i].count('\\''))/nr_words\n",
    "        features[i][4] = data[i].count(':')/nr_words\n",
    "        features[i][5] = data[i].count('-')/nr_words\n",
    "        features[i][6] = data[i].count('\\n')/nr_words\n",
    "        features[i][7] = nr_words/avg_nr_words #nr words / mean\n",
    "        features[i][8] = np.mean([len(x.split()) for x in data[i].split('\\n')]) #mean nr words per line\n",
    "        features[i][9] = len(set(whitespace.split(data[i])))/nr_words #unique words fraction\n",
    "        features[i][10] = np.mean([len(set(whitespace.split(x)))/(len(whitespace.split(x))) if len(whitespace.split(x))>0 else 0 for x in data[i].split('\\n')]) #unique words per line\n",
    "        features[i][11] = np.mean([len(x) for x in whitespace.split(data[i])]) #word length\n",
    "        features[i][12] = sum(1 for c in data[i] if c.isdigit())/nr_words\n",
    "        features[i][13] = sum([numsyllables(word) for word in whitespace.split(re.sub('[^\\w\\s]','',data[i]))])/nr_words #avg nr syllables\n",
    "\n",
    "    return features\n",
    "\n",
    "Statsfeatures = FunctionTransformer(StatsVectorizer, validate=False)"
   ]
  },
  {
   "cell_type": "code",
   "execution_count": null,
   "metadata": {},
   "outputs": [],
   "source": [
    "vectorizerTFIDF = TfidfVectorizer(stop_words='english', sublinear_tf=True, max_df=0.5, min_df=2, ngram_range=(1,1))\n",
    "vectorizerPOS = TfidfVectorizer(vocabulary=list(load('help/tagsets/upenn_tagset.pickle').keys()), use_idf=False, lowercase=False)"
   ]
  },
  {
   "cell_type": "code",
   "execution_count": null,
   "metadata": {},
   "outputs": [],
   "source": [
    "selector10 = SelectPercentile(percentile=10) #select best k% of features\n",
    "selector40 = SelectPercentile(percentile=40)"
   ]
  },
  {
   "cell_type": "code",
   "execution_count": null,
   "metadata": {},
   "outputs": [],
   "source": [
    "tfidf = Pipeline([\n",
    "                         #('stemmer', stemTransform), #stemming\n",
    "                         ('vectorize', vectorizerTFIDF), #vectorization\n",
    "                         ('selection', selector10) #feature selection\n",
    "])"
   ]
  },
  {
   "cell_type": "code",
   "execution_count": null,
   "metadata": {},
   "outputs": [],
   "source": [
    "pos = Pipeline([\n",
    "                    ('getTags', getPOS2), #get POS tags\n",
    "                    ('vectorize', vectorizerPOS), #vectorization\n",
    "                    ('selector', selector40) #feature selection\n",
    "])"
   ]
  },
  {
   "cell_type": "code",
   "execution_count": null,
   "metadata": {},
   "outputs": [],
   "source": [
    "features = FeatureUnion([\n",
    "                        ('vectorizer', tfidf),\n",
    "                        ('stats', Statsfeatures), \n",
    "                        ('Rhymefeatures', Rhymefeatures),\n",
    "                        ('POS', pos),\n",
    "                        ])"
   ]
  },
  {
   "cell_type": "markdown",
   "metadata": {},
   "source": [
    "## Classification"
   ]
  },
  {
   "cell_type": "code",
   "execution_count": null,
   "metadata": {},
   "outputs": [],
   "source": [
    "svc = SVC()\n",
    "mnb = MultinomialNB()\n",
    "tree = DecisionTreeClassifier(max_depth=25, min_samples_leaf=500)"
   ]
  },
  {
   "cell_type": "markdown",
   "metadata": {},
   "source": [
    "## Pipeline"
   ]
  },
  {
   "cell_type": "code",
   "execution_count": null,
   "metadata": {},
   "outputs": [],
   "source": [
    "pipeline = Pipeline([\n",
    "    ('features', features), #extract features\n",
    "    ('classifier', mnb), #classify\n",
    "])"
   ]
  },
  {
   "cell_type": "code",
   "execution_count": null,
   "metadata": {},
   "outputs": [],
   "source": [
    "pipeline.fit(x_train, y_train)"
   ]
  },
  {
   "cell_type": "code",
   "execution_count": null,
   "metadata": {},
   "outputs": [],
   "source": [
    "predictions_p = pipeline.predict_proba(x_test)"
   ]
  },
  {
   "cell_type": "code",
   "execution_count": null,
   "metadata": {},
   "outputs": [],
   "source": [
    "def threshold_predictions(probabilities, threshold=0.4):\n",
    "    '''\n",
    "    Takes the probabilities for each class and transforms them to predictions, taking into account the \n",
    "    classification threshold\n",
    "    '''\n",
    "    preds = np.zeros(len(probabilities))\n",
    "    \n",
    "    for index, prob in enumerate(probabilities):\n",
    "        if max(prob)<threshold:\n",
    "            preds[index] = -1\n",
    "        else:\n",
    "            preds[index] = list(prob).index(max(prob))+1\n",
    "        \n",
    "    return preds\n",
    "\n",
    "predictions = threshold_predictions(predictions_p, 0)"
   ]
  },
  {
   "cell_type": "markdown",
   "metadata": {},
   "source": [
    "## Evaluation"
   ]
  },
  {
   "cell_type": "code",
   "execution_count": 270,
   "metadata": {},
   "outputs": [
    {
     "name": "stdout",
     "output_type": "stream",
     "text": [
      "0.6030787284713354 % accuracy\n",
      "100.0 % classified\n"
     ]
    }
   ],
   "source": [
    "labels = np.array(y_test).astype(int)\n",
    "\n",
    "correct = 0\n",
    "for i in range(len(predictions)):\n",
    "    if(predictions[i]==labels[i]):\n",
    "        correct+=1\n",
    "        \n",
    "\n",
    "print(correct/sum([1 if x != -1 else 0 for x in predictions]), '% accuracy')\n",
    "print(100-list(predictions).count(-1)/len(predictions)*100,'% classified')"
   ]
  },
  {
   "cell_type": "code",
   "execution_count": null,
   "metadata": {},
   "outputs": [],
   "source": [
    "'''\n",
    "Trade-off between threshold and accuracy\n",
    "'''\n",
    "percent_classified = np.zeros(100)\n",
    "accuracy = np.zeros(100)\n",
    "\n",
    "for index, p in enumerate(np.linspace(0.01,1,100)):\n",
    "    predicted = threshold_predictions(predictions_p, p)\n",
    "    length = len(predicted)\n",
    "    \n",
    "    percent_classified[index] = 100-list(predicted).count(-1)/length*100\n",
    "    \n",
    "    correct = 0\n",
    "    for i in range(len(predicted)):\n",
    "        if(predicted[i]==labels[i]):\n",
    "            correct+=1\n",
    "            \n",
    "    nr_classified = sum([1 if x != -1 else 0 for x in predicted])\n",
    "    \n",
    "    accuracy[index] = correct/nr_classified*100 if nr_classified != 0 else 100"
   ]
  },
  {
   "cell_type": "code",
   "execution_count": 275,
   "metadata": {},
   "outputs": [
    {
     "data": {
      "image/png": "[encoded data removed]",
      "text/plain": [
       "<Figure size 432x288 with 1 Axes>"
      ]
     },
     "metadata": {
      "needs_background": "light"
     },
     "output_type": "display_data"
    }
   ],
   "source": [
    "x = np.linspace(0.01,1,100)\n",
    "plt.plot(x, percent_classified, 'r-')\n",
    "plt.plot(x, accuracy, 'g-')\n",
    "plt.xlabel(\"Probability threshold for classification\")\n",
    "plt.yticks(np.linspace(0,100,11), [str(x)[:-2]+\"%\" for x in np.linspace(0,100,11)])\n",
    "plt.legend(['percentage of documents classified', 'classification accuracy'])\n",
    "plt.grid();\n",
    "#plt.title(\"Classification threshold trade-off\");"
   ]
  },
  {
   "cell_type": "code",
   "execution_count": null,
   "metadata": {},
   "outputs": [],
   "source": [
    "threshold = 0\n",
    "\n",
    "predicted = threshold_predictions(predictions_p, threshold=threshold)\n",
    "labels_thresh = [x for i,x in enumerate(labels) if predicted[i]>0]\n",
    "pred_thresh = [x for x in predicted if x>0]"
   ]
  },
  {
   "cell_type": "markdown",
   "metadata": {},
   "source": [
    "## Confusion Matrix"
   ]
  },
  {
   "cell_type": "code",
   "execution_count": null,
   "metadata": {},
   "outputs": [],
   "source": [
    "np.set_printoptions(threshold=np.nan)\n",
    "\n",
    "\n",
    "#function from scikit-learn example\n",
    "def plot_confusion_matrix(cm, classes,\n",
    "                          normalize=False,\n",
    "                          title='Confusion matrix',\n",
    "                          cmap=plt.cm.Blues):\n",
    "    \"\"\"\n",
    "    This function prints and plots the confusion matrix.\n",
    "    Normalization can be applied by setting `normalize=True`.\n",
    "    \"\"\"\n",
    "    if normalize:\n",
    "        cm = cm.astype('float') / cm.sum(axis=1)[:, np.newaxis]\n",
    "        #print(\"Normalized confusion matrix\")\n",
    "\n",
    "    #print(cm)\n",
    "\n",
    "    plt.imshow(cm, interpolation='nearest', cmap=cmap)\n",
    "    #plt.title(title)\n",
    "    plt.colorbar()\n",
    "    tick_marks = np.arange(len(classes))\n",
    "    plt.xticks(tick_marks, classes, rotation=45)\n",
    "    plt.yticks(tick_marks, classes)\n",
    "\n",
    "    fmt = '.2f' if normalize else 'd'\n",
    "    thresh = cm.max() / 2.\n",
    "    for i, j in itertools.product(range(cm.shape[0]), range(cm.shape[1])):\n",
    "        plt.text(j, i, format(cm[i, j], fmt),\n",
    "                 horizontalalignment=\"center\",\n",
    "                 color=\"white\" if cm[i, j] > thresh else \"black\")\n",
    "\n",
    "    plt.ylabel('True label')\n",
    "    plt.xlabel('Predicted label')\n",
    "    plt.tight_layout()\n"
   ]
  },
  {
   "cell_type": "code",
   "execution_count": 274,
   "metadata": {},
   "outputs": [
    {
     "data": {
      "image/png": "[encoded data removed]",
      "text/plain": [
       "<Figure size 432x288 with 2 Axes>"
      ]
     },
     "metadata": {
      "needs_background": "light"
     },
     "output_type": "display_data"
    }
   ],
   "source": [
    "cm = confusion_matrix(labels_thresh, pred_thresh);\n",
    "plot_confusion_matrix(cm, classes=df.genre.unique(), normalize=True);"
   ]
  }
 ],
 "metadata": {
  "kernelspec": {
   "display_name": "Python 3",
   "language": "python",
   "name": "python3"
  },
  "language_info": {
   "codemirror_mode": {
    "name": "ipython",
    "version": 3
   },
   "file_extension": ".py",
   "mimetype": "text/x-python",
   "name": "python",
   "nbconvert_exporter": "python",
   "pygments_lexer": "ipython3",
   "version": "3.7.0"
  }
 },
 "nbformat": 4,
 "nbformat_minor": 2
}
